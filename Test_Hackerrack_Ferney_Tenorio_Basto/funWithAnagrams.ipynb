{
  "nbformat": 4,
  "nbformat_minor": 0,
  "metadata": {
    "colab": {
      "provenance": []
    },
    "kernelspec": {
      "name": "python3",
      "display_name": "Python 3"
    },
    "language_info": {
      "name": "python"
    }
  },
  "cells": [
    {
      "cell_type": "code",
      "execution_count": 4,
      "metadata": {
        "id": "jS-CLYGXue6q"
      },
      "outputs": [],
      "source": [
        "def validarAnagramas(palabra,lista):\n",
        "  for i in lista:\n",
        "    if(sorted(palabra)==sorted(i)):\n",
        "      return True\n",
        "  return False\n",
        "def funWithAnagrams(text):\n",
        " # Write your code here\n",
        "  limites=len(text)\n",
        "  text.reverse()\n",
        "\n",
        "  copiaTextoLista=list(text)\n",
        "\n",
        "  contador=0\n",
        "  for i in range(0,limites):\n",
        "    if text[i+1:] and validarAnagramas(text[i],text[i+1:]):\n",
        "      copiaTextoLista.pop(i-contador)\n",
        "      contador=contador+1\n",
        "  return sorted(copiaTextoLista)\n",
        "\n"
      ]
    },
    {
      "cell_type": "code",
      "source": [
        "print(funWithAnagrams([\"code\",\"aaagmnrs\",\"anagrams\",\"doce\"]))\n",
        "print(funWithAnagrams([\"poke\",\"pkoe\",\"okpe\",\"ekop\"]))"
      ],
      "metadata": {
        "colab": {
          "base_uri": "https://localhost:8080/"
        },
        "id": "KyTXk2uyvyy-",
        "outputId": "86c876d8-bd92-4350-cb75-08a6b0329095"
      },
      "execution_count": 5,
      "outputs": [
        {
          "output_type": "stream",
          "name": "stdout",
          "text": [
            "['aaagmnrs', 'code']\n",
            "['poke']\n"
          ]
        }
      ]
    }
  ]
}