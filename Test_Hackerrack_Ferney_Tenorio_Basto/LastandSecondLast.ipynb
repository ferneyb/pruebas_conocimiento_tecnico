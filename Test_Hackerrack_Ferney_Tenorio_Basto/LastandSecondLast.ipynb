{
  "nbformat": 4,
  "nbformat_minor": 0,
  "metadata": {
    "colab": {
      "provenance": []
    },
    "kernelspec": {
      "name": "python3",
      "display_name": "Python 3"
    },
    "language_info": {
      "name": "python"
    }
  },
  "cells": [
    {
      "cell_type": "code",
      "execution_count": 8,
      "metadata": {
        "id": "jS-CLYGXue6q"
      },
      "outputs": [],
      "source": [
        "def lastLetters(word):\n",
        "  recortar=word[-2:]\n",
        "  lista=[i for i in recortar]\n",
        "  retornar=str(lista[1]) + ' '+str(lista[0])\n",
        "  return retornar\n",
        "\n",
        "\n"
      ]
    },
    {
      "cell_type": "code",
      "source": [
        "print(lastLetters(\"APPLE\"))\n",
        "print(lastLetters(\"bat\"))"
      ],
      "metadata": {
        "colab": {
          "base_uri": "https://localhost:8080/"
        },
        "id": "KyTXk2uyvyy-",
        "outputId": "04b1cc2c-eb28-4395-8c32-bdaebe5ba4a0"
      },
      "execution_count": 9,
      "outputs": [
        {
          "output_type": "stream",
          "name": "stdout",
          "text": [
            "E L\n",
            "t a\n"
          ]
        }
      ]
    }
  ]
}