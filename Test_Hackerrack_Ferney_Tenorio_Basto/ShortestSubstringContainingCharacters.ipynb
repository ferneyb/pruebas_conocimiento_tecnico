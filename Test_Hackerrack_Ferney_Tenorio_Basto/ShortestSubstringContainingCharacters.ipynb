{
  "nbformat": 4,
  "nbformat_minor": 0,
  "metadata": {
    "colab": {
      "provenance": []
    },
    "kernelspec": {
      "name": "python3",
      "display_name": "Python 3"
    },
    "language_info": {
      "name": "python"
    }
  },
  "cells": [
    {
      "cell_type": "code",
      "execution_count": 1,
      "metadata": {
        "id": "jS-CLYGXue6q"
      },
      "outputs": [],
      "source": [
        "from collections import defaultdict as dictionary\n",
        "def shortestSubstring(givenString):\n",
        "\n",
        "  longitud=len(givenString)\n",
        "  pDistinto= len(set([i for i in givenString]))\n",
        "\n",
        "  iniciar=0\n",
        "  longitudMinima=longitud\n",
        "  total=0\n",
        "  comienzo=0\n",
        "  cuentaActual=dictionary(lambda:0)\n",
        "\n",
        "  for i in range(longitud):\n",
        "    cuentaActual[givenString[i]]+=1\n",
        "    if cuentaActual[givenString[i]]==1:\n",
        "      total+=1\n",
        "    if total==pDistinto:\n",
        "      while cuentaActual[givenString[comienzo]]>1:\n",
        "        if cuentaActual[givenString[comienzo]]>1:\n",
        "          cuentaActual[givenString[comienzo]]-=1\n",
        "        comienzo+=1\n",
        "      nueva_dimension=i-comienzo+1\n",
        "      if longitudMinima>nueva_dimension:\n",
        "        longitudMinima=nueva_dimension\n",
        "        iniciar=comienzo\n",
        "  return len(givenString[iniciar:iniciar+longitudMinima])\n"
      ]
    },
    {
      "cell_type": "code",
      "source": [
        "print(shortestSubstring(\"asdfkjeghfalawefhaef\"))\n",
        "print(shortestSubstring(\"bab\"))"
      ],
      "metadata": {
        "colab": {
          "base_uri": "https://localhost:8080/"
        },
        "id": "KyTXk2uyvyy-",
        "outputId": "9443cac2-e836-48e8-d4e7-488c2a34fe08"
      },
      "execution_count": 3,
      "outputs": [
        {
          "output_type": "stream",
          "name": "stdout",
          "text": [
            "13\n",
            "2\n"
          ]
        }
      ]
    }
  ]
}